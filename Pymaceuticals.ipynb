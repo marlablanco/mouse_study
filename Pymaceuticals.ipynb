{
 "cells": [
  {
   "cell_type": "code",
   "execution_count": 1,
   "id": "d5c6eb2d",
   "metadata": {},
   "outputs": [
    {
     "data": {
      "text/html": [
       "<div>\n",
       "<style scoped>\n",
       "    .dataframe tbody tr th:only-of-type {\n",
       "        vertical-align: middle;\n",
       "    }\n",
       "\n",
       "    .dataframe tbody tr th {\n",
       "        vertical-align: top;\n",
       "    }\n",
       "\n",
       "    .dataframe thead th {\n",
       "        text-align: right;\n",
       "    }\n",
       "</style>\n",
       "<table border=\"1\" class=\"dataframe\">\n",
       "  <thead>\n",
       "    <tr style=\"text-align: right;\">\n",
       "      <th></th>\n",
       "      <th>Mouse ID</th>\n",
       "      <th>Timepoint</th>\n",
       "      <th>Tumor Volume (mm3)</th>\n",
       "      <th>Metastatic Sites</th>\n",
       "      <th>Drug Regimen</th>\n",
       "      <th>Sex</th>\n",
       "      <th>Age_months</th>\n",
       "      <th>Weight (g)</th>\n",
       "    </tr>\n",
       "  </thead>\n",
       "  <tbody>\n",
       "    <tr>\n",
       "      <th>0</th>\n",
       "      <td>b128</td>\n",
       "      <td>0</td>\n",
       "      <td>45.000000</td>\n",
       "      <td>0</td>\n",
       "      <td>Capomulin</td>\n",
       "      <td>Female</td>\n",
       "      <td>9</td>\n",
       "      <td>22</td>\n",
       "    </tr>\n",
       "    <tr>\n",
       "      <th>1</th>\n",
       "      <td>b128</td>\n",
       "      <td>5</td>\n",
       "      <td>45.651331</td>\n",
       "      <td>0</td>\n",
       "      <td>Capomulin</td>\n",
       "      <td>Female</td>\n",
       "      <td>9</td>\n",
       "      <td>22</td>\n",
       "    </tr>\n",
       "    <tr>\n",
       "      <th>2</th>\n",
       "      <td>b128</td>\n",
       "      <td>10</td>\n",
       "      <td>43.270852</td>\n",
       "      <td>0</td>\n",
       "      <td>Capomulin</td>\n",
       "      <td>Female</td>\n",
       "      <td>9</td>\n",
       "      <td>22</td>\n",
       "    </tr>\n",
       "    <tr>\n",
       "      <th>3</th>\n",
       "      <td>b128</td>\n",
       "      <td>15</td>\n",
       "      <td>43.784893</td>\n",
       "      <td>0</td>\n",
       "      <td>Capomulin</td>\n",
       "      <td>Female</td>\n",
       "      <td>9</td>\n",
       "      <td>22</td>\n",
       "    </tr>\n",
       "    <tr>\n",
       "      <th>4</th>\n",
       "      <td>b128</td>\n",
       "      <td>20</td>\n",
       "      <td>42.731552</td>\n",
       "      <td>0</td>\n",
       "      <td>Capomulin</td>\n",
       "      <td>Female</td>\n",
       "      <td>9</td>\n",
       "      <td>22</td>\n",
       "    </tr>\n",
       "  </tbody>\n",
       "</table>\n",
       "</div>"
      ],
      "text/plain": [
       "  Mouse ID  Timepoint  Tumor Volume (mm3)  Metastatic Sites Drug Regimen  \\\n",
       "0     b128          0           45.000000                 0    Capomulin   \n",
       "1     b128          5           45.651331                 0    Capomulin   \n",
       "2     b128         10           43.270852                 0    Capomulin   \n",
       "3     b128         15           43.784893                 0    Capomulin   \n",
       "4     b128         20           42.731552                 0    Capomulin   \n",
       "\n",
       "      Sex  Age_months  Weight (g)  \n",
       "0  Female           9          22  \n",
       "1  Female           9          22  \n",
       "2  Female           9          22  \n",
       "3  Female           9          22  \n",
       "4  Female           9          22  "
      ]
     },
     "execution_count": 1,
     "metadata": {},
     "output_type": "execute_result"
    }
   ],
   "source": [
    "# imports\n",
    "import matplotlib.pyplot as plt\n",
    "import pandas as pd\n",
    "import scipy.stats as st\n",
    "import numpy as np\n",
    "\n",
    "# data files\n",
    "mouse_drug_data = \"Pymaceuticals/data/Mouse_metadata.csv\"\n",
    "study_results = \"Pymaceuticals/data/Study_results.csv\"\n",
    "\n",
    "# read csv data\n",
    "mouse_drug_data_df = pd.read_csv(mouse_drug_data)\n",
    "study_results_df = pd.read_csv(study_results)\n",
    "\n",
    "# Combined data into one df\n",
    "total_trial_data_df=pd.merge(study_results_df,mouse_drug_data_df,how='outer',on='Mouse ID')\n",
    "total_trial_data_df.head()\n"
   ]
  },
  {
   "cell_type": "code",
   "execution_count": 2,
   "id": "6dae1fed",
   "metadata": {},
   "outputs": [
    {
     "data": {
      "text/plain": [
       "249"
      ]
     },
     "execution_count": 2,
     "metadata": {},
     "output_type": "execute_result"
    }
   ],
   "source": [
    "#number of unique mice\n",
    "unique_mice=total_trial_data_df[\"Mouse ID\"].nunique()\n",
    "unique_mice"
   ]
  },
  {
   "cell_type": "code",
   "execution_count": 3,
   "id": "3c030b0f",
   "metadata": {},
   "outputs": [
    {
     "data": {
      "text/plain": [
       "array(['g989'], dtype=object)"
      ]
     },
     "execution_count": 3,
     "metadata": {},
     "output_type": "execute_result"
    }
   ],
   "source": [
    "#duplicate mouse ID and timepoint\n",
    "duplicate_mice=total_trial_data_df.loc[total_trial_data_df.duplicated(subset=['Mouse ID','Timepoint']),'Mouse ID'].unique()\n",
    "duplicate_mice"
   ]
  },
  {
   "cell_type": "code",
   "execution_count": 4,
   "id": "da9b9aad",
   "metadata": {
    "scrolled": true
   },
   "outputs": [
    {
     "data": {
      "text/html": [
       "<div>\n",
       "<style scoped>\n",
       "    .dataframe tbody tr th:only-of-type {\n",
       "        vertical-align: middle;\n",
       "    }\n",
       "\n",
       "    .dataframe tbody tr th {\n",
       "        vertical-align: top;\n",
       "    }\n",
       "\n",
       "    .dataframe thead th {\n",
       "        text-align: right;\n",
       "    }\n",
       "</style>\n",
       "<table border=\"1\" class=\"dataframe\">\n",
       "  <thead>\n",
       "    <tr style=\"text-align: right;\">\n",
       "      <th></th>\n",
       "      <th>Mouse ID</th>\n",
       "      <th>Timepoint</th>\n",
       "      <th>Tumor Volume (mm3)</th>\n",
       "      <th>Metastatic Sites</th>\n",
       "      <th>Drug Regimen</th>\n",
       "      <th>Sex</th>\n",
       "      <th>Age_months</th>\n",
       "      <th>Weight (g)</th>\n",
       "    </tr>\n",
       "  </thead>\n",
       "  <tbody>\n",
       "    <tr>\n",
       "      <th>0</th>\n",
       "      <td>b128</td>\n",
       "      <td>0</td>\n",
       "      <td>45.000000</td>\n",
       "      <td>0</td>\n",
       "      <td>Capomulin</td>\n",
       "      <td>Female</td>\n",
       "      <td>9</td>\n",
       "      <td>22</td>\n",
       "    </tr>\n",
       "    <tr>\n",
       "      <th>1</th>\n",
       "      <td>b128</td>\n",
       "      <td>5</td>\n",
       "      <td>45.651331</td>\n",
       "      <td>0</td>\n",
       "      <td>Capomulin</td>\n",
       "      <td>Female</td>\n",
       "      <td>9</td>\n",
       "      <td>22</td>\n",
       "    </tr>\n",
       "    <tr>\n",
       "      <th>2</th>\n",
       "      <td>b128</td>\n",
       "      <td>10</td>\n",
       "      <td>43.270852</td>\n",
       "      <td>0</td>\n",
       "      <td>Capomulin</td>\n",
       "      <td>Female</td>\n",
       "      <td>9</td>\n",
       "      <td>22</td>\n",
       "    </tr>\n",
       "    <tr>\n",
       "      <th>3</th>\n",
       "      <td>b128</td>\n",
       "      <td>15</td>\n",
       "      <td>43.784893</td>\n",
       "      <td>0</td>\n",
       "      <td>Capomulin</td>\n",
       "      <td>Female</td>\n",
       "      <td>9</td>\n",
       "      <td>22</td>\n",
       "    </tr>\n",
       "    <tr>\n",
       "      <th>4</th>\n",
       "      <td>b128</td>\n",
       "      <td>20</td>\n",
       "      <td>42.731552</td>\n",
       "      <td>0</td>\n",
       "      <td>Capomulin</td>\n",
       "      <td>Female</td>\n",
       "      <td>9</td>\n",
       "      <td>22</td>\n",
       "    </tr>\n",
       "    <tr>\n",
       "      <th>...</th>\n",
       "      <td>...</td>\n",
       "      <td>...</td>\n",
       "      <td>...</td>\n",
       "      <td>...</td>\n",
       "      <td>...</td>\n",
       "      <td>...</td>\n",
       "      <td>...</td>\n",
       "      <td>...</td>\n",
       "    </tr>\n",
       "    <tr>\n",
       "      <th>1888</th>\n",
       "      <td>m601</td>\n",
       "      <td>25</td>\n",
       "      <td>33.118756</td>\n",
       "      <td>1</td>\n",
       "      <td>Capomulin</td>\n",
       "      <td>Male</td>\n",
       "      <td>22</td>\n",
       "      <td>17</td>\n",
       "    </tr>\n",
       "    <tr>\n",
       "      <th>1889</th>\n",
       "      <td>m601</td>\n",
       "      <td>30</td>\n",
       "      <td>31.758275</td>\n",
       "      <td>1</td>\n",
       "      <td>Capomulin</td>\n",
       "      <td>Male</td>\n",
       "      <td>22</td>\n",
       "      <td>17</td>\n",
       "    </tr>\n",
       "    <tr>\n",
       "      <th>1890</th>\n",
       "      <td>m601</td>\n",
       "      <td>35</td>\n",
       "      <td>30.834357</td>\n",
       "      <td>1</td>\n",
       "      <td>Capomulin</td>\n",
       "      <td>Male</td>\n",
       "      <td>22</td>\n",
       "      <td>17</td>\n",
       "    </tr>\n",
       "    <tr>\n",
       "      <th>1891</th>\n",
       "      <td>m601</td>\n",
       "      <td>40</td>\n",
       "      <td>31.378045</td>\n",
       "      <td>1</td>\n",
       "      <td>Capomulin</td>\n",
       "      <td>Male</td>\n",
       "      <td>22</td>\n",
       "      <td>17</td>\n",
       "    </tr>\n",
       "    <tr>\n",
       "      <th>1892</th>\n",
       "      <td>m601</td>\n",
       "      <td>45</td>\n",
       "      <td>28.430964</td>\n",
       "      <td>1</td>\n",
       "      <td>Capomulin</td>\n",
       "      <td>Male</td>\n",
       "      <td>22</td>\n",
       "      <td>17</td>\n",
       "    </tr>\n",
       "  </tbody>\n",
       "</table>\n",
       "<p>1880 rows × 8 columns</p>\n",
       "</div>"
      ],
      "text/plain": [
       "     Mouse ID  Timepoint  Tumor Volume (mm3)  Metastatic Sites Drug Regimen  \\\n",
       "0        b128          0           45.000000                 0    Capomulin   \n",
       "1        b128          5           45.651331                 0    Capomulin   \n",
       "2        b128         10           43.270852                 0    Capomulin   \n",
       "3        b128         15           43.784893                 0    Capomulin   \n",
       "4        b128         20           42.731552                 0    Capomulin   \n",
       "...       ...        ...                 ...               ...          ...   \n",
       "1888     m601         25           33.118756                 1    Capomulin   \n",
       "1889     m601         30           31.758275                 1    Capomulin   \n",
       "1890     m601         35           30.834357                 1    Capomulin   \n",
       "1891     m601         40           31.378045                 1    Capomulin   \n",
       "1892     m601         45           28.430964                 1    Capomulin   \n",
       "\n",
       "         Sex  Age_months  Weight (g)  \n",
       "0     Female           9          22  \n",
       "1     Female           9          22  \n",
       "2     Female           9          22  \n",
       "3     Female           9          22  \n",
       "4     Female           9          22  \n",
       "...      ...         ...         ...  \n",
       "1888    Male          22          17  \n",
       "1889    Male          22          17  \n",
       "1890    Male          22          17  \n",
       "1891    Male          22          17  \n",
       "1892    Male          22          17  \n",
       "\n",
       "[1880 rows x 8 columns]"
      ]
     },
     "execution_count": 4,
     "metadata": {},
     "output_type": "execute_result"
    }
   ],
   "source": [
    "#clean df \n",
    "clean_trial_data=total_trial_data_df.loc[total_trial_data_df[\"Mouse ID\"] !=\"g989\",:]\n",
    "clean_trial_data"
   ]
  },
  {
   "cell_type": "code",
   "execution_count": 5,
   "id": "da0be3e2",
   "metadata": {},
   "outputs": [
    {
     "data": {
      "text/plain": [
       "248"
      ]
     },
     "execution_count": 5,
     "metadata": {},
     "output_type": "execute_result"
    }
   ],
   "source": [
    "#unique mice in clean df\n",
    "clean_mice_number=clean_trial_data[\"Mouse ID\"].nunique()\n",
    "clean_mice_number"
   ]
  },
  {
   "cell_type": "code",
   "execution_count": 6,
   "id": "cc21c577",
   "metadata": {},
   "outputs": [
    {
     "data": {
      "text/html": [
       "<div>\n",
       "<style scoped>\n",
       "    .dataframe tbody tr th:only-of-type {\n",
       "        vertical-align: middle;\n",
       "    }\n",
       "\n",
       "    .dataframe tbody tr th {\n",
       "        vertical-align: top;\n",
       "    }\n",
       "\n",
       "    .dataframe thead th {\n",
       "        text-align: right;\n",
       "    }\n",
       "</style>\n",
       "<table border=\"1\" class=\"dataframe\">\n",
       "  <thead>\n",
       "    <tr style=\"text-align: right;\">\n",
       "      <th></th>\n",
       "      <th>Mean Tumor Vol</th>\n",
       "      <th>Median Tumor Vol</th>\n",
       "      <th>Tumor Vol Variance</th>\n",
       "      <th>Tumor Vol Standard Dev</th>\n",
       "      <th>Tumor Vol Standard Err</th>\n",
       "    </tr>\n",
       "    <tr>\n",
       "      <th>Drug Regimen</th>\n",
       "      <th></th>\n",
       "      <th></th>\n",
       "      <th></th>\n",
       "      <th></th>\n",
       "      <th></th>\n",
       "    </tr>\n",
       "  </thead>\n",
       "  <tbody>\n",
       "    <tr>\n",
       "      <th>Capomulin</th>\n",
       "      <td>40.675741</td>\n",
       "      <td>41.557809</td>\n",
       "      <td>24.947764</td>\n",
       "      <td>4.994774</td>\n",
       "      <td>0.329346</td>\n",
       "    </tr>\n",
       "    <tr>\n",
       "      <th>Ceftamin</th>\n",
       "      <td>52.591172</td>\n",
       "      <td>51.776157</td>\n",
       "      <td>39.290177</td>\n",
       "      <td>6.268188</td>\n",
       "      <td>0.469821</td>\n",
       "    </tr>\n",
       "    <tr>\n",
       "      <th>Infubinol</th>\n",
       "      <td>52.884795</td>\n",
       "      <td>51.820584</td>\n",
       "      <td>43.128684</td>\n",
       "      <td>6.567243</td>\n",
       "      <td>0.492236</td>\n",
       "    </tr>\n",
       "    <tr>\n",
       "      <th>Ketapril</th>\n",
       "      <td>55.235638</td>\n",
       "      <td>53.698743</td>\n",
       "      <td>68.553577</td>\n",
       "      <td>8.279709</td>\n",
       "      <td>0.603860</td>\n",
       "    </tr>\n",
       "    <tr>\n",
       "      <th>Naftisol</th>\n",
       "      <td>54.331565</td>\n",
       "      <td>52.509285</td>\n",
       "      <td>66.173479</td>\n",
       "      <td>8.134708</td>\n",
       "      <td>0.596466</td>\n",
       "    </tr>\n",
       "    <tr>\n",
       "      <th>Placebo</th>\n",
       "      <td>54.033581</td>\n",
       "      <td>52.288934</td>\n",
       "      <td>61.168083</td>\n",
       "      <td>7.821003</td>\n",
       "      <td>0.581331</td>\n",
       "    </tr>\n",
       "    <tr>\n",
       "      <th>Propriva</th>\n",
       "      <td>52.320930</td>\n",
       "      <td>50.446266</td>\n",
       "      <td>43.852013</td>\n",
       "      <td>6.622085</td>\n",
       "      <td>0.544332</td>\n",
       "    </tr>\n",
       "    <tr>\n",
       "      <th>Ramicane</th>\n",
       "      <td>40.216745</td>\n",
       "      <td>40.673236</td>\n",
       "      <td>23.486704</td>\n",
       "      <td>4.846308</td>\n",
       "      <td>0.320955</td>\n",
       "    </tr>\n",
       "    <tr>\n",
       "      <th>Stelasyn</th>\n",
       "      <td>54.233149</td>\n",
       "      <td>52.431737</td>\n",
       "      <td>59.450562</td>\n",
       "      <td>7.710419</td>\n",
       "      <td>0.573111</td>\n",
       "    </tr>\n",
       "    <tr>\n",
       "      <th>Zoniferol</th>\n",
       "      <td>53.236507</td>\n",
       "      <td>51.818479</td>\n",
       "      <td>48.533355</td>\n",
       "      <td>6.966589</td>\n",
       "      <td>0.516398</td>\n",
       "    </tr>\n",
       "  </tbody>\n",
       "</table>\n",
       "</div>"
      ],
      "text/plain": [
       "              Mean Tumor Vol  Median Tumor Vol  Tumor Vol Variance  \\\n",
       "Drug Regimen                                                         \n",
       "Capomulin          40.675741         41.557809           24.947764   \n",
       "Ceftamin           52.591172         51.776157           39.290177   \n",
       "Infubinol          52.884795         51.820584           43.128684   \n",
       "Ketapril           55.235638         53.698743           68.553577   \n",
       "Naftisol           54.331565         52.509285           66.173479   \n",
       "Placebo            54.033581         52.288934           61.168083   \n",
       "Propriva           52.320930         50.446266           43.852013   \n",
       "Ramicane           40.216745         40.673236           23.486704   \n",
       "Stelasyn           54.233149         52.431737           59.450562   \n",
       "Zoniferol          53.236507         51.818479           48.533355   \n",
       "\n",
       "              Tumor Vol Standard Dev  Tumor Vol Standard Err  \n",
       "Drug Regimen                                                  \n",
       "Capomulin                   4.994774                0.329346  \n",
       "Ceftamin                    6.268188                0.469821  \n",
       "Infubinol                   6.567243                0.492236  \n",
       "Ketapril                    8.279709                0.603860  \n",
       "Naftisol                    8.134708                0.596466  \n",
       "Placebo                     7.821003                0.581331  \n",
       "Propriva                    6.622085                0.544332  \n",
       "Ramicane                    4.846308                0.320955  \n",
       "Stelasyn                    7.710419                0.573111  \n",
       "Zoniferol                   6.966589                0.516398  "
      ]
     },
     "execution_count": 6,
     "metadata": {},
     "output_type": "execute_result"
    }
   ],
   "source": [
    "#tumor stats\n",
    "tumor_mean=clean_trial_data['Tumor Volume (mm3)'].groupby(clean_trial_data['Drug Regimen']).mean()\n",
    "\n",
    "tumor_median=clean_trial_data['Tumor Volume (mm3)'].groupby(clean_trial_data['Drug Regimen']).median()\n",
    "\n",
    "tumor_variance=clean_trial_data['Tumor Volume (mm3)'].groupby(clean_trial_data['Drug Regimen']).var()\n",
    "\n",
    "tumor_stdev=clean_trial_data['Tumor Volume (mm3)'].groupby(clean_trial_data['Drug Regimen']).std()\n",
    "\n",
    "tumor_sem=clean_trial_data['Tumor Volume (mm3)'].groupby(clean_trial_data['Drug Regimen']).sem()\n",
    "\n",
    "#tumor stat summary df\n",
    "tumor_stats=pd.DataFrame({\"Mean Tumor Vol\":tumor_mean,\n",
    "                         \"Median Tumor Vol\":tumor_median,\n",
    "                          \"Tumor Vol Variance\":tumor_variance,\n",
    "                          \"Tumor Vol Standard Dev\":tumor_stdev,\n",
    "                          \"Tumor Vol Standard Err\":tumor_sem})\n",
    "tumor_stats"
   ]
  },
  {
   "cell_type": "code",
   "execution_count": 7,
   "id": "2b02abaf",
   "metadata": {},
   "outputs": [
    {
     "data": {
      "text/html": [
       "<div>\n",
       "<style scoped>\n",
       "    .dataframe tbody tr th:only-of-type {\n",
       "        vertical-align: middle;\n",
       "    }\n",
       "\n",
       "    .dataframe tbody tr th {\n",
       "        vertical-align: top;\n",
       "    }\n",
       "\n",
       "    .dataframe thead tr th {\n",
       "        text-align: left;\n",
       "    }\n",
       "\n",
       "    .dataframe thead tr:last-of-type th {\n",
       "        text-align: right;\n",
       "    }\n",
       "</style>\n",
       "<table border=\"1\" class=\"dataframe\">\n",
       "  <thead>\n",
       "    <tr>\n",
       "      <th></th>\n",
       "      <th colspan=\"5\" halign=\"left\">Tumor Volume (mm3)</th>\n",
       "    </tr>\n",
       "    <tr>\n",
       "      <th></th>\n",
       "      <th>mean</th>\n",
       "      <th>median</th>\n",
       "      <th>var</th>\n",
       "      <th>std</th>\n",
       "      <th>sem</th>\n",
       "    </tr>\n",
       "    <tr>\n",
       "      <th>Drug Regimen</th>\n",
       "      <th></th>\n",
       "      <th></th>\n",
       "      <th></th>\n",
       "      <th></th>\n",
       "      <th></th>\n",
       "    </tr>\n",
       "  </thead>\n",
       "  <tbody>\n",
       "    <tr>\n",
       "      <th>Capomulin</th>\n",
       "      <td>40.675741</td>\n",
       "      <td>41.557809</td>\n",
       "      <td>24.947764</td>\n",
       "      <td>4.994774</td>\n",
       "      <td>0.329346</td>\n",
       "    </tr>\n",
       "    <tr>\n",
       "      <th>Ceftamin</th>\n",
       "      <td>52.591172</td>\n",
       "      <td>51.776157</td>\n",
       "      <td>39.290177</td>\n",
       "      <td>6.268188</td>\n",
       "      <td>0.469821</td>\n",
       "    </tr>\n",
       "    <tr>\n",
       "      <th>Infubinol</th>\n",
       "      <td>52.884795</td>\n",
       "      <td>51.820584</td>\n",
       "      <td>43.128684</td>\n",
       "      <td>6.567243</td>\n",
       "      <td>0.492236</td>\n",
       "    </tr>\n",
       "    <tr>\n",
       "      <th>Ketapril</th>\n",
       "      <td>55.235638</td>\n",
       "      <td>53.698743</td>\n",
       "      <td>68.553577</td>\n",
       "      <td>8.279709</td>\n",
       "      <td>0.603860</td>\n",
       "    </tr>\n",
       "    <tr>\n",
       "      <th>Naftisol</th>\n",
       "      <td>54.331565</td>\n",
       "      <td>52.509285</td>\n",
       "      <td>66.173479</td>\n",
       "      <td>8.134708</td>\n",
       "      <td>0.596466</td>\n",
       "    </tr>\n",
       "    <tr>\n",
       "      <th>Placebo</th>\n",
       "      <td>54.033581</td>\n",
       "      <td>52.288934</td>\n",
       "      <td>61.168083</td>\n",
       "      <td>7.821003</td>\n",
       "      <td>0.581331</td>\n",
       "    </tr>\n",
       "    <tr>\n",
       "      <th>Propriva</th>\n",
       "      <td>52.320930</td>\n",
       "      <td>50.446266</td>\n",
       "      <td>43.852013</td>\n",
       "      <td>6.622085</td>\n",
       "      <td>0.544332</td>\n",
       "    </tr>\n",
       "    <tr>\n",
       "      <th>Ramicane</th>\n",
       "      <td>40.216745</td>\n",
       "      <td>40.673236</td>\n",
       "      <td>23.486704</td>\n",
       "      <td>4.846308</td>\n",
       "      <td>0.320955</td>\n",
       "    </tr>\n",
       "    <tr>\n",
       "      <th>Stelasyn</th>\n",
       "      <td>54.233149</td>\n",
       "      <td>52.431737</td>\n",
       "      <td>59.450562</td>\n",
       "      <td>7.710419</td>\n",
       "      <td>0.573111</td>\n",
       "    </tr>\n",
       "    <tr>\n",
       "      <th>Zoniferol</th>\n",
       "      <td>53.236507</td>\n",
       "      <td>51.818479</td>\n",
       "      <td>48.533355</td>\n",
       "      <td>6.966589</td>\n",
       "      <td>0.516398</td>\n",
       "    </tr>\n",
       "  </tbody>\n",
       "</table>\n",
       "</div>"
      ],
      "text/plain": [
       "             Tumor Volume (mm3)                                          \n",
       "                           mean     median        var       std       sem\n",
       "Drug Regimen                                                             \n",
       "Capomulin             40.675741  41.557809  24.947764  4.994774  0.329346\n",
       "Ceftamin              52.591172  51.776157  39.290177  6.268188  0.469821\n",
       "Infubinol             52.884795  51.820584  43.128684  6.567243  0.492236\n",
       "Ketapril              55.235638  53.698743  68.553577  8.279709  0.603860\n",
       "Naftisol              54.331565  52.509285  66.173479  8.134708  0.596466\n",
       "Placebo               54.033581  52.288934  61.168083  7.821003  0.581331\n",
       "Propriva              52.320930  50.446266  43.852013  6.622085  0.544332\n",
       "Ramicane              40.216745  40.673236  23.486704  4.846308  0.320955\n",
       "Stelasyn              54.233149  52.431737  59.450562  7.710419  0.573111\n",
       "Zoniferol             53.236507  51.818479  48.533355  6.966589  0.516398"
      ]
     },
     "execution_count": 7,
     "metadata": {},
     "output_type": "execute_result"
    }
   ],
   "source": [
    "#summary stats using aggregation method\n",
    "tumor_stats_aggregation=clean_trial_data.groupby(['Drug Regimen'])[['Tumor Volume (mm3)']].agg(['mean','median','var','std','sem'])\n",
    "tumor_stats_aggregation"
   ]
  },
  {
   "cell_type": "code",
   "execution_count": 8,
   "id": "c784f216",
   "metadata": {},
   "outputs": [
    {
     "data": {
      "image/png": "[encoded data removed]",
      "text/plain": [
       "<Figure size 640x480 with 1 Axes>"
      ]
     },
     "metadata": {},
     "output_type": "display_data"
    }
   ],
   "source": [
    "#bar plot with total number of rows (mouse id/timepoints) for each drug regimen\n",
    "bar_plot=clean_trial_data['Drug Regimen'].value_counts()\n",
    "mouse_plot=bar_plot.plot.bar(x='Drug Regimen',y='Number of Mice',fontsize='10')"
   ]
  },
  {
   "cell_type": "code",
   "execution_count": 9,
   "id": "e01415eb",
   "metadata": {},
   "outputs": [
    {
     "data": {
      "image/png": "[encoded data removed]",
      "text/plain": [
       "<Figure size 640x480 with 1 Axes>"
      ]
     },
     "metadata": {},
     "output_type": "display_data"
    }
   ],
   "source": [
    "#bar plot with total number of rows (mouse id/timepoints) for each drug regimen using pyplot\n",
    "plt.pandas=bar_plot.plot.bar(color='b')\n",
    "\n",
    "#add title/labels\n",
    "plt.title(\"Number of Mice per Drug Regimen\")\n",
    "plt.xlabel(\"Drug Regimen\")\n",
    "plt.ylabel(\"Number of Mice\")\n",
    "plt.show()"
   ]
  },
  {
   "cell_type": "code",
   "execution_count": 10,
   "id": "02b32f1d",
   "metadata": {},
   "outputs": [
    {
     "data": {
      "image/png": "[encoded data removed]",
      "text/plain": [
       "<Figure size 640x480 with 1 Axes>"
      ]
     },
     "metadata": {},
     "output_type": "display_data"
    }
   ],
   "source": [
    "#pie plot with distribution of female vs male mice\n",
    "sex_mice_pie=clean_trial_data[\"Sex\"].value_counts()\n",
    "\n",
    "#label\n",
    "plt.title(\"Female vs Male Mice in Study\")\n",
    "sex_mice_pie.plot.pie(autopct=\"%1.1f%%\")\n",
    "plt.show()"
   ]
  },
  {
   "cell_type": "code",
   "execution_count": 11,
   "id": "8ac47c6d",
   "metadata": {},
   "outputs": [
    {
     "data": {
      "image/png": "[encoded data removed]",
      "text/plain": [
       "<Figure size 640x480 with 1 Axes>"
      ]
     },
     "metadata": {},
     "output_type": "display_data"
    }
   ],
   "source": [
    "#pie plot with distribution of female vs male mice with pyplot\n",
    "pie_plot=sex_mice_pie.plot.pie(y=\"Total Count\",autopct=\"%1.1f%%\")\n",
    "\n",
    "#label\n",
    "plt.title(\"Female vs Male Mice in Study\")\n",
    "plt.ylabel(\"Sex\")\n",
    "labels=[\"Female\",\"Male\"]\n",
    "sizes=[49.4,50.6]\n",
    "\n",
    "plt.show()"
   ]
  },
  {
   "cell_type": "code",
   "execution_count": 12,
   "id": "d79844fe",
   "metadata": {},
   "outputs": [],
   "source": [
    "#calculate quartiles, find outliers, create boxplot\n",
    "#final tumor vol for four treatments (Capomulin, Ramicane, Infubinol, and Ceftamin)\n",
    "capomulin=clean_trial_data.loc[clean_trial_data[\"Drug Regimen\"]==\"Capomulin\",:]\n",
    "ramicane=clean_trial_data.loc[clean_trial_data[\"Drug Regimen\"]==\"Ramicane\",:]\n",
    "infubinol=clean_trial_data.loc[clean_trial_data[\"Drug Regimen\"]==\"Infubinol\",:]\n",
    "ceftamin=clean_trial_data.loc[clean_trial_data[\"Drug Regimen\"]==\"Ceftamin\",:]\n",
    "\n",
    "#grouped df that shows the last (greatest) time point for each mouse\n",
    "last_capomulin=capomulin.groupby('Mouse ID').max()['Timepoint']\n",
    "vol_capomulin=pd.DataFrame(last_capomulin)\n",
    "\n",
    "last_ramicane=ramicane.groupby('Mouse ID').max()['Timepoint']\n",
    "vol_ramicane=pd.DataFrame(last_ramicane)\n",
    "\n",
    "last_infubinol=infubinol.groupby('Mouse ID').max()['Timepoint']\n",
    "vol_infubinol=pd.DataFrame(last_infubinol)\n",
    "\n",
    "last_ceftamin=ceftamin.groupby('Mouse ID').max()['Timepoint']\n",
    "vol_ceftamin=pd.DataFrame(last_ceftamin)"
   ]
  },
  {
   "cell_type": "code",
   "execution_count": 13,
   "id": "0b20cced",
   "metadata": {},
   "outputs": [],
   "source": [
    "#merge with original df for tumor vol at the last timepoint\n",
    "capomulin_merge=pd.merge(vol_capomulin,clean_trial_data,on=(\"Mouse ID\",\"Timepoint\"),how=\"left\")\n",
    "ramicane_merge=pd.merge(vol_ramicane,clean_trial_data,on=(\"Mouse ID\",\"Timepoint\"),how=\"left\")\n",
    "infubinol_merge=pd.merge(vol_infubinol,clean_trial_data,on=(\"Mouse ID\",\"Timepoint\"),how=\"left\")\n",
    "ceftamin_merge=pd.merge(vol_ceftamin,clean_trial_data,on=(\"Mouse ID\",\"Timepoint\"),how=\"left\")"
   ]
  },
  {
   "cell_type": "code",
   "execution_count": 14,
   "id": "24718edd",
   "metadata": {},
   "outputs": [
    {
     "data": {
      "text/html": [
       "<div>\n",
       "<style scoped>\n",
       "    .dataframe tbody tr th:only-of-type {\n",
       "        vertical-align: middle;\n",
       "    }\n",
       "\n",
       "    .dataframe tbody tr th {\n",
       "        vertical-align: top;\n",
       "    }\n",
       "\n",
       "    .dataframe thead th {\n",
       "        text-align: right;\n",
       "    }\n",
       "</style>\n",
       "<table border=\"1\" class=\"dataframe\">\n",
       "  <thead>\n",
       "    <tr style=\"text-align: right;\">\n",
       "      <th></th>\n",
       "      <th>Mouse ID</th>\n",
       "      <th>Timepoint</th>\n",
       "      <th>Tumor Volume (mm3)</th>\n",
       "      <th>Metastatic Sites</th>\n",
       "      <th>Drug Regimen</th>\n",
       "      <th>Sex</th>\n",
       "      <th>Age_months</th>\n",
       "      <th>Weight (g)</th>\n",
       "    </tr>\n",
       "  </thead>\n",
       "  <tbody>\n",
       "    <tr>\n",
       "      <th>0</th>\n",
       "      <td>b128</td>\n",
       "      <td>0</td>\n",
       "      <td>45.000000</td>\n",
       "      <td>0</td>\n",
       "      <td>Capomulin</td>\n",
       "      <td>Female</td>\n",
       "      <td>9</td>\n",
       "      <td>22</td>\n",
       "    </tr>\n",
       "    <tr>\n",
       "      <th>1</th>\n",
       "      <td>b128</td>\n",
       "      <td>5</td>\n",
       "      <td>45.651331</td>\n",
       "      <td>0</td>\n",
       "      <td>Capomulin</td>\n",
       "      <td>Female</td>\n",
       "      <td>9</td>\n",
       "      <td>22</td>\n",
       "    </tr>\n",
       "    <tr>\n",
       "      <th>2</th>\n",
       "      <td>b128</td>\n",
       "      <td>10</td>\n",
       "      <td>43.270852</td>\n",
       "      <td>0</td>\n",
       "      <td>Capomulin</td>\n",
       "      <td>Female</td>\n",
       "      <td>9</td>\n",
       "      <td>22</td>\n",
       "    </tr>\n",
       "    <tr>\n",
       "      <th>3</th>\n",
       "      <td>b128</td>\n",
       "      <td>15</td>\n",
       "      <td>43.784893</td>\n",
       "      <td>0</td>\n",
       "      <td>Capomulin</td>\n",
       "      <td>Female</td>\n",
       "      <td>9</td>\n",
       "      <td>22</td>\n",
       "    </tr>\n",
       "    <tr>\n",
       "      <th>4</th>\n",
       "      <td>b128</td>\n",
       "      <td>20</td>\n",
       "      <td>42.731552</td>\n",
       "      <td>0</td>\n",
       "      <td>Capomulin</td>\n",
       "      <td>Female</td>\n",
       "      <td>9</td>\n",
       "      <td>22</td>\n",
       "    </tr>\n",
       "  </tbody>\n",
       "</table>\n",
       "</div>"
      ],
      "text/plain": [
       "  Mouse ID  Timepoint  Tumor Volume (mm3)  Metastatic Sites Drug Regimen  \\\n",
       "0     b128          0           45.000000                 0    Capomulin   \n",
       "1     b128          5           45.651331                 0    Capomulin   \n",
       "2     b128         10           43.270852                 0    Capomulin   \n",
       "3     b128         15           43.784893                 0    Capomulin   \n",
       "4     b128         20           42.731552                 0    Capomulin   \n",
       "\n",
       "      Sex  Age_months  Weight (g)  \n",
       "0  Female           9          22  \n",
       "1  Female           9          22  \n",
       "2  Female           9          22  \n",
       "3  Female           9          22  \n",
       "4  Female           9          22  "
      ]
     },
     "execution_count": 14,
     "metadata": {},
     "output_type": "execute_result"
    }
   ],
   "source": [
    "#list of treatments as well as second, empty list to hold tumor vol data\n",
    "drug_regimen_list=[\"Capomulin\",\"Ramicane\",\"Infubinol\",\"Ceftamin\"]\n",
    "drug_regimen=clean_trial_data[clean_trial_data['Drug Regimen'].isin(drug_regimen_list)]\n",
    "drug_regimen.head()"
   ]
  },
  {
   "cell_type": "code",
   "execution_count": 15,
   "id": "9dbb02a6",
   "metadata": {},
   "outputs": [],
   "source": [
    "#tumor vol\n",
    "tumor1=capomulin_merge[\"Tumor Volume (mm3)\"]\n",
    "tumor2=ramicane_merge[\"Tumor Volume (mm3)\"]\n",
    "tumor3=infubinol_merge[\"Tumor Volume (mm3)\"]\n",
    "tumor4=ceftamin_merge[\"Tumor Volume (mm3)\"]\n",
    "\n",
    "#create loop\n",
    "for drug_regimen in drug_regimen_list:\n",
    "    quartiles1=tumor1.quantile([.25,.5,.75]).round(2)\n",
    "    upperq1=quartiles1[0.75].round(2)\n",
    "    lowerq1=quartiles1[0.25].round(2)\n",
    "    iqr1=round(upperq1-lowerq1,2)\n",
    "    \n",
    "    quartiles2=tumor2.quantile([.25,.5,.75]).round(2)\n",
    "    upperq2=quartiles2[0.75].round(2)\n",
    "    lowerq2=quartiles2[0.25].round(2)\n",
    "    iqr2=round(upperq2-lowerq2,2)\n",
    "    \n",
    "    quartiles3=tumor3.quantile([.25,.5,.75]).round(2)\n",
    "    upperq3=quartiles3[0.75].round(2)\n",
    "    lowerq3=quartiles3[0.25].round(2)\n",
    "    iqr3=round(upperq3-lowerq3,2)\n",
    "    \n",
    "    quartiles4=tumor4.quantile([.25,.5,.75]).round(2)\n",
    "    upperq4=quartiles4[0.75].round(2)\n",
    "    lowerq4=quartiles4[0.25].round(2)\n",
    "    iqr4=round(upperq4-lowerq4,2)"
   ]
  },
  {
   "cell_type": "code",
   "execution_count": 16,
   "id": "4cc756ef",
   "metadata": {},
   "outputs": [
    {
     "name": "stdout",
     "output_type": "stream",
     "text": [
      "Lower quartile of tumors treated with Capomulin: 32.38\n",
      "Upper quartile of tumors treated with Capomulin: 40.16\n",
      "Interquartile of tumors treated with Capomulin: 7.78\n",
      "Median vol of tumors treated with Capomulin: 38.13\n",
      "Lower quartile of tumors treated with Ramicane: 31.56\n",
      "Upper quartile of tumors treated with Ramicane: 40.66\n",
      "Interquartile of tumors treated with Ramicane: 9.1\n",
      "Median vol of tumors treated with Ramicane: 36.56\n",
      "Lower quartile of tumors treated with Infubinol: 54.05\n",
      "Upper quartile of tumors treated with Infubinol: 65.53\n",
      "Interquartile of tumors treated with Infubinol: 11.48\n",
      "Median vol of tumors treated with Infubinol: 60.17\n",
      "Lower quartile of tumors treated with Ceftamin: 48.72\n",
      "Upper quartile of tumors treated with Ceftamin: 64.3\n",
      "Interquartile of tumors treated with Ceftamin: 15.58\n",
      "Median vol of tumors treated with Ceftamin: 59.85\n"
     ]
    }
   ],
   "source": [
    "#print values\n",
    "#capomulin\n",
    "print(f\"Lower quartile of tumors treated with Capomulin: {lowerq1}\")\n",
    "print(f\"Upper quartile of tumors treated with Capomulin: {upperq1}\")\n",
    "print(f\"Interquartile of tumors treated with Capomulin: {iqr1}\")\n",
    "print(f\"Median vol of tumors treated with Capomulin: {quartiles1[0.5]}\")\n",
    "\n",
    "#ramicane\n",
    "print(f\"Lower quartile of tumors treated with Ramicane: {lowerq2}\")\n",
    "print(f\"Upper quartile of tumors treated with Ramicane: {upperq2}\")\n",
    "print(f\"Interquartile of tumors treated with Ramicane: {iqr2}\")\n",
    "print(f\"Median vol of tumors treated with Ramicane: {quartiles2[0.5]}\")\n",
    "\n",
    "#infubinol \n",
    "print(f\"Lower quartile of tumors treated with Infubinol: {lowerq3}\")\n",
    "print(f\"Upper quartile of tumors treated with Infubinol: {upperq3}\")\n",
    "print(f\"Interquartile of tumors treated with Infubinol: {iqr3}\")\n",
    "print(f\"Median vol of tumors treated with Infubinol: {quartiles3[0.5]}\")\n",
    "\n",
    "#ceftamin  \n",
    "print(f\"Lower quartile of tumors treated with Ceftamin: {lowerq4}\")\n",
    "print(f\"Upper quartile of tumors treated with Ceftamin: {upperq4}\")\n",
    "print(f\"Interquartile of tumors treated with Ceftamin: {iqr4}\")\n",
    "print(f\"Median vol of tumors treated with Ceftamin: {quartiles4[0.5]}\")"
   ]
  },
  {
   "cell_type": "code",
   "execution_count": 17,
   "id": "ac36d1e5",
   "metadata": {},
   "outputs": [],
   "source": [
    "#empty list to hold tumor vol data for plotting\n",
    "total_regimen_list=[tumor1,tumor2,tumor3,tumor4]"
   ]
  },
  {
   "cell_type": "code",
   "execution_count": 18,
   "id": "6c20a7a4",
   "metadata": {},
   "outputs": [],
   "source": [
    "# determine if there are any potential outliers across all four treatment regimens\n",
    "#capomulin\n",
    "upper_bound1=round(upperq1+(1.5*iqr1),2)\n",
    "lower_bound1=round(lowerq1-(1.5*iqr1),2)\n",
    "\n",
    "#ramicane\n",
    "upper_bound2=round(upperq2+(1.5*iqr2),2)\n",
    "lower_bound2=round(lowerq2-(1.5*iqr2),2)\n",
    "\n",
    "#infubinol\n",
    "upper_bound3=round(upperq3+(1.5*iqr3),2)\n",
    "lower_bound3=round(lowerq3-(1.5*iqr3),2)\n",
    "\n",
    "#ceftamin\n",
    "upper_bound4=round(upperq4+(1.5*iqr4),2)\n",
    "lower_bound4=round(lowerq4-(1.5*iqr4),2)"
   ]
  },
  {
   "cell_type": "code",
   "execution_count": 19,
   "id": "d3f6df38",
   "metadata": {},
   "outputs": [
    {
     "name": "stdout",
     "output_type": "stream",
     "text": [
      "Values above 51.83 mm3 are potential outliers for Capomulin.\n",
      "Values below 20.71 mm3 are potential outliers for Capomulin.\n",
      "Values above 54.31 mm3 are potential outliers for Ramicane.\n",
      "Values below 17.91 mm3 are potential outliers for Ramicane.\n",
      "Values above 82.75 mm3 are potential outliers for Infubinol.\n",
      "Values below 36.83 mm3 are potential outliers for Infubinol.\n",
      "Values above 87.67 mm3 are potential outliers for Ceftamin.\n",
      "Values below 25.35 mm3 are potential outliers for Ceftamin.\n"
     ]
    }
   ],
   "source": [
    "#print outlier results\n",
    "#capomulin\n",
    "print(f\"Values above {upper_bound1} mm3 are potential outliers for Capomulin.\")\n",
    "print(f\"Values below {lower_bound1} mm3 are potential outliers for Capomulin.\")\n",
    "\n",
    "#ramicane\n",
    "print(f\"Values above {upper_bound2} mm3 are potential outliers for Ramicane.\")\n",
    "print(f\"Values below {lower_bound2} mm3 are potential outliers for Ramicane.\")\n",
    "\n",
    "#infubinol\n",
    "print(f\"Values above {upper_bound3} mm3 are potential outliers for Infubinol.\")\n",
    "print(f\"Values below {lower_bound3} mm3 are potential outliers for Infubinol.\")\n",
    "\n",
    "#ceftamin\n",
    "print(f\"Values above {upper_bound4} mm3 are potential outliers for Ceftamin.\")\n",
    "print(f\"Values below {lower_bound4} mm3 are potential outliers for Ceftamin.\")"
   ]
  },
  {
   "cell_type": "code",
   "execution_count": 20,
   "id": "c0d96cfb",
   "metadata": {},
   "outputs": [
    {
     "data": {
      "text/plain": [
       "Text(0, 0.5, 'Final Tumor Vol (mm3)')"
      ]
     },
     "execution_count": 20,
     "metadata": {},
     "output_type": "execute_result"
    },
    {
     "data": {
      "image/png": "[encoded data removed]",
      "text/plain": [
       "<Figure size 640x480 with 1 Axes>"
      ]
     },
     "metadata": {},
     "output_type": "display_data"
    }
   ],
   "source": [
    "#box plot for distribution of tumor vol for each of four treatments\n",
    "boxplot=[tumor1,tumor2,tumor3,tumor4]\n",
    "\n",
    "tumor1=capomulin_merge[\"Tumor Volume (mm3)\"]\n",
    "tumor2=ramicane_merge[\"Tumor Volume (mm3)\"]\n",
    "tumor3=infubinol_merge[\"Tumor Volume (mm3)\"]\n",
    "tumor4=ceftamin_merge[\"Tumor Volume (mm3)\"]\n",
    "\n",
    "#labels\n",
    "fig,ax=plt.subplots()\n",
    "ax.boxplot(boxplot,labels=[\"Capomulin\",\"Ramicane\",\"Infubinol\",\"Ceftamin\"])\n",
    "ax.set_title(\"Tumor\")\n",
    "ax.set_xlabel(\"Drug Regimen\")\n",
    "ax.set_ylabel(\"Final Tumor Vol (mm3)\")\n"
   ]
  },
  {
   "cell_type": "code",
   "execution_count": 21,
   "id": "81ed6c61",
   "metadata": {},
   "outputs": [
    {
     "data": {
      "text/plain": [
       "Text(0, 0.5, 'Tumor Volume (mm3)')"
      ]
     },
     "execution_count": 21,
     "metadata": {},
     "output_type": "execute_result"
    },
    {
     "data": {
      "image/png": "[encoded data removed]",
      "text/plain": [
       "<Figure size 640x480 with 1 Axes>"
      ]
     },
     "metadata": {},
     "output_type": "display_data"
    }
   ],
   "source": [
    "#line plot of tumor vol vs time point for single mouse treated with Capomulin (s185)\n",
    "line_plot=capomulin.loc[capomulin[\"Mouse ID\"]==\"s185\",:]\n",
    "x_axis=line_plot[\"Timepoint\"]\n",
    "y_axis=line_plot[\"Tumor Volume (mm3)\"]\n",
    "\n",
    "#labels\n",
    "fig1,ax1=plt.subplots()\n",
    "plt.plot(x_axis,y_axis,linewidth=1,markersize=10)\n",
    "plt.title(\"Capomulin:Mouse(s185)\")\n",
    "plt.xlabel(\"Timepoint (Days)\")\n",
    "plt.ylabel(\"Tumor Volume (mm3)\")"
   ]
  },
  {
   "cell_type": "code",
   "execution_count": 22,
   "id": "691940e3",
   "metadata": {},
   "outputs": [
    {
     "name": "stderr",
     "output_type": "stream",
     "text": [
      "/var/folders/vq/0fk27r_d7fvdfvmppyp7ky6r0000gn/T/ipykernel_7509/949653810.py:2: FutureWarning: The default value of numeric_only in DataFrameGroupBy.mean is deprecated. In a future version, numeric_only will default to False. Either specify numeric_only or select only columns which should be valid for the function.\n",
      "  capomulin_avg=capomulin.groupby(['Mouse ID']).mean()\n"
     ]
    },
    {
     "data": {
      "text/plain": [
       "Text(0, 0.5, 'Average Tumor Volume (mm3)')"
      ]
     },
     "execution_count": 22,
     "metadata": {},
     "output_type": "execute_result"
    },
    {
     "data": {
      "image/png": "[encoded data removed]",
      "text/plain": [
       "<Figure size 640x480 with 1 Axes>"
      ]
     },
     "metadata": {},
     "output_type": "display_data"
    }
   ],
   "source": [
    "#scatter plot of mouse weight vs average observed tumor vol for full Capomulin treatment\n",
    "capomulin_avg=capomulin.groupby(['Mouse ID']).mean()\n",
    "\n",
    "#labels\n",
    "plt.scatter(capomulin_avg[\"Weight (g)\"],capomulin_avg[\"Tumor Volume (mm3)\"])\n",
    "plt.xlabel(\"Weight (g)\")\n",
    "plt.ylabel(\"Average Tumor Volume (mm3)\")"
   ]
  },
  {
   "cell_type": "code",
   "execution_count": 23,
   "id": "a5040fb9",
   "metadata": {},
   "outputs": [
    {
     "name": "stdout",
     "output_type": "stream",
     "text": [
      "The correlation coefficient is: 0.84\n"
     ]
    }
   ],
   "source": [
    "#calculate correlation and regression\n",
    "#calculate correlation coefficient and linear regression model between mouse weight and avg observed tumor vol for the entire Capomulin \n",
    "\n",
    "lin_reg=st.linregress(capomulin_avg['Weight (g)'],capomulin_avg['Tumor Volume (mm3)'])\n",
    "\n",
    "correlation=round(st.pearsonr(capomulin_avg['Weight (g)'],capomulin_avg['Tumor Volume (mm3)'])[0],2)\n",
    "print(f\"The correlation coefficient is: {correlation}\")"
   ]
  },
  {
   "cell_type": "code",
   "execution_count": 24,
   "id": "dd4fb0b2",
   "metadata": {},
   "outputs": [
    {
     "ename": "NameError",
     "evalue": "name 'mslope' is not defined",
     "output_type": "error",
     "traceback": [
      "\u001b[0;31m---------------------------------------------------------------------------\u001b[0m",
      "\u001b[0;31mNameError\u001b[0m                                 Traceback (most recent call last)",
      "Cell \u001b[0;32mIn[24], line 3\u001b[0m\n\u001b[1;32m      1\u001b[0m \u001b[38;5;66;03m#labels\u001b[39;00m\n\u001b[1;32m      2\u001b[0m plt\u001b[38;5;241m.\u001b[39mscatter(capomulin_avg[\u001b[38;5;124m\"\u001b[39m\u001b[38;5;124mWeight (g)\u001b[39m\u001b[38;5;124m\"\u001b[39m],capomulin_avg[\u001b[38;5;124m\"\u001b[39m\u001b[38;5;124mTumor Volume (mm3)\u001b[39m\u001b[38;5;124m\"\u001b[39m])\n\u001b[0;32m----> 3\u001b[0m y_value2\u001b[38;5;241m=\u001b[39m(capomulin_avg[\u001b[38;5;124m\"\u001b[39m\u001b[38;5;124mWeight (g)\u001b[39m\u001b[38;5;124m\"\u001b[39m])\u001b[38;5;241m*\u001b[39m\u001b[43mmslope\u001b[49m\u001b[38;5;241m+\u001b[39mbintercept\n\u001b[1;32m      4\u001b[0m plt\u001b[38;5;241m.\u001b[39mplot(capomulin_avg[\u001b[38;5;124m\"\u001b[39m\u001b[38;5;124mWeight (g)\u001b[39m\u001b[38;5;124m\"\u001b[39m],y_value2,color\u001b[38;5;241m=\u001b[39m\u001b[38;5;124m\"\u001b[39m\u001b[38;5;124mb\u001b[39m\u001b[38;5;124m\"\u001b[39m)\n\u001b[1;32m      5\u001b[0m plt\u001b[38;5;241m.\u001b[39mxlabel(\u001b[38;5;124m\"\u001b[39m\u001b[38;5;124mWeight (g)\u001b[39m\u001b[38;5;124m\"\u001b[39m)\n",
      "\u001b[0;31mNameError\u001b[0m: name 'mslope' is not defined"
     ]
    },
    {
     "data": {
      "image/png": "[encoded data removed]",
      "text/plain": [
       "<Figure size 640x480 with 1 Axes>"
      ]
     },
     "metadata": {},
     "output_type": "display_data"
    }
   ],
   "source": [
    "#labels\n",
    "plt.scatter(capomulin_avg[\"Weight (g)\"],capomulin_avg[\"Tumor Volume (mm3)\"])\n",
    "y_value2=(capomulin_avg[\"Weight (g)\"])*mslope+bintercept\n",
    "plt.plot(capomulin_avg[\"Weight (g)\"],y_value2,color=\"b\")\n",
    "plt.xlabel(\"Weight (g)\")\n",
    "plt.ylabel(\"Tumor Volume (mm3)\")"
   ]
  },
  {
   "cell_type": "code",
   "execution_count": null,
   "id": "421c8db9",
   "metadata": {},
   "outputs": [],
   "source": []
  }
 ],
 "metadata": {
  "kernelspec": {
   "display_name": "Python 3 (ipykernel)",
   "language": "python",
   "name": "python3"
  },
  "language_info": {
   "codemirror_mode": {
    "name": "ipython",
    "version": 3
   },
   "file_extension": ".py",
   "mimetype": "text/x-python",
   "name": "python",
   "nbconvert_exporter": "python",
   "pygments_lexer": "ipython3",
   "version": "3.10.11"
  }
 },
 "nbformat": 4,
 "nbformat_minor": 5
}
